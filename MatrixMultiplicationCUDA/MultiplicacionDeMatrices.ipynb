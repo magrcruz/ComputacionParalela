{
  "nbformat": 4,
  "nbformat_minor": 0,
  "metadata": {
    "colab": {
      "provenance": [],
      "gpuType": "T4",
      "collapsed_sections": [
        "mU5Uk3CVQMIm",
        "3UAoUGocaNd4",
        "IUOm-lYHaarf",
        "U7mcfy-_sbP1",
        "m0XnYo8Ra52T"
      ]
    },
    "kernelspec": {
      "name": "python3",
      "display_name": "Python 3"
    },
    "language_info": {
      "name": "python"
    },
    "accelerator": "GPU"
  },
  "cells": [
    {
      "cell_type": "markdown",
      "source": [
        "# Computación Paralela\n",
        "## Multiplicación de matrices\n",
        "\n",
        "*María Graciel Cruz Cáceres*\n",
        "\n",
        "*Departamento de Ciencia de la Computación*\n",
        "*Universidad Católica San Pablo*\n",
        "*Arequipa - Perú*"
      ],
      "metadata": {
        "id": "bxtfXyghypxW"
      }
    },
    {
      "cell_type": "markdown",
      "source": [
        "## Enlace al repositorio\n",
        "[Github](https://github.com/magrcruz/ComputacionParalela/tree/main/MatrixMultiplicationCUDA) - https://github.com/magrcruz/ComputacionParalela/tree/main/MatrixMultiplicationCUDA"
      ],
      "metadata": {
        "id": "TXgHzbOGgku2"
      }
    },
    {
      "cell_type": "markdown",
      "source": [
        "## Codigos completos"
      ],
      "metadata": {
        "id": "DwUKlPAYroUR"
      }
    },
    {
      "cell_type": "markdown",
      "source": [
        "### Multiplicacion de matrices normal"
      ],
      "metadata": {
        "id": "QnaSs5zZcBDC"
      }
    },
    {
      "cell_type": "code",
      "source": [
        "%%writefile matmul.cu\n",
        "#include \"cuda_runtime.h\"\n",
        "#include \"device_launch_parameters.h\"\n",
        "#include <math.h>\n",
        "#include <stdio.h>\n",
        "#include <time.h>\n",
        "#include <iostream>\n",
        "#include <stdlib.h>\n",
        "#include \"GpuTimer.h\"\n",
        "using namespace std;\n",
        "\n",
        "#define BLOCK_SIZE 16\n",
        "\n",
        "void matMulCPU(float* A, float* B, float* C, int numARows, int numACols, int numBCols) {\n",
        "    int i, j, k;\n",
        "    int offsetA, offsetB;\n",
        "    float cumSum;\n",
        "\n",
        "    for (i = 0; i < numARows; i++) {\n",
        "        for (j = 0; j < numBCols; j++) {\n",
        "            cumSum = 0;\n",
        "            for (k = 0; k < numACols; k++) {\n",
        "                // linearize index\n",
        "                offsetA = i*numACols + k;\n",
        "                offsetB = k*numBCols + j;\n",
        "\n",
        "                // accumulate element-wise product\n",
        "                cumSum += A[offsetA] * B[offsetB];\n",
        "            }\n",
        "            C[i*numBCols + j] = cumSum;\n",
        "        }\n",
        "    }\n",
        "}\n",
        "\n",
        "__global__ void matMulGPU(float* A, float* B, float* C, int numARows, int numACols, int numBCols) {\n",
        "    // compute global thread coordinates\n",
        "    int row = blockIdx.y * blockDim.y + threadIdx.y;\n",
        "    int col = blockIdx.x * blockDim.x + threadIdx.x;\n",
        "\n",
        "    // linearize coordinates for data access\n",
        "    int offset = row * numBCols + col;\n",
        "\n",
        "    if ((row < numARows) && (col < numBCols)) {\n",
        "        float cumSum = 0;\n",
        "        for (int k = 0; k < numACols; k++) {\n",
        "            cumSum += A[row*numACols + k] * B[k*numBCols + col];\n",
        "        }\n",
        "        C[offset] = cumSum;\n",
        "    }\n",
        "}\n",
        "\n",
        "\n",
        "int main(int argc, char* argv[]) {\n",
        "    int numARows = 960;\n",
        "    int numACols = 640;\n",
        "    int numBCols = 800;\n",
        "\n",
        "    if (argc ==4 ) {\n",
        "        numARows = std::stoi(argv[1]);\n",
        "        numACols = std::stoi(argv[2]);\n",
        "        numBCols = std::stoi(argv[3]);\n",
        "    }\n",
        "\n",
        "    cout<<\"Size of matrix A: \"<<numARows<<\" \"<<numACols<<endl;\n",
        "    cout<<\"Size of matrix B: \"<<numACols<<\" \"<<numBCols<<endl;\n",
        "\n",
        "    // timers\n",
        "    GpuTimer timer0, timer1, timer2, timer3;\n",
        "\n",
        "    size_t sizeA = numARows * numACols * sizeof(float);\n",
        "    size_t sizeB = numACols * numBCols * sizeof(float);\n",
        "    size_t sizeC = numARows * numBCols * sizeof(float);\n",
        "\n",
        "\n",
        "    // allocate host memory\n",
        "    float* h_A = (float*)malloc(sizeA);\n",
        "    float* h_B = (float*)malloc(sizeB);\n",
        "    float* h_C = (float*)malloc(sizeC);\n",
        "    float* h_C_CPU = (float*)malloc(sizeC);\n",
        "\n",
        "    // initialize host matrices\n",
        "    int i, j, offset;\n",
        "    for (i = 0; i <  numARows; i++) {\n",
        "        for (j = 0; j < numACols; j++) {\n",
        "            offset = i*numACols + j;\n",
        "            h_A[offset] = sin(i);\n",
        "        }\n",
        "    }\n",
        "    for (i = 0; i <  numACols; i++) {\n",
        "        for (j = 0; j < numBCols; j++) {\n",
        "            offset = i*numBCols + j;\n",
        "            h_B[offset] = cos(j);\n",
        "        }\n",
        "    }\n",
        "\n",
        "    // allocate device matrices\n",
        "    float* d_A;\n",
        "    float* d_B;\n",
        "    float* d_C;\n",
        "    timer0.Start();\n",
        "    cudaMalloc((void**)&d_A, sizeA);\n",
        "    cudaMalloc((void**)&d_B, sizeB);\n",
        "    cudaMalloc((void**)&d_C, sizeC);\n",
        "    timer0.Stop();\n",
        "    printf(\"Time to allocate memory on the device is: %f msecs.\\n\", timer0.Elapsed());\n",
        "\n",
        "    // transfer to GPU\n",
        "    timer1.Start();\n",
        "    cudaMemcpy(d_A, h_A, sizeA, cudaMemcpyHostToDevice);\n",
        "    cudaMemcpy(d_B, h_B, sizeB, cudaMemcpyHostToDevice);\n",
        "    timer1.Stop();\n",
        "    printf(\"Time to copy the Matrix from host to device is: %f msecs.\\n\", timer1.Elapsed());\n",
        "\n",
        "    // kernel launch\n",
        "    dim3 threadPerBlock(BLOCK_SIZE, BLOCK_SIZE, 1);\n",
        "    dim3 blockPerGrid(ceil(numBCols/(float)BLOCK_SIZE), ceil(numACols/(float)BLOCK_SIZE), 1);\n",
        "    timer2.Start();\n",
        "    matMulGPU<<<blockPerGrid, threadPerBlock>>>(d_A, d_B, d_C, numARows, numACols, numBCols);\n",
        "    timer2.Stop();\n",
        "    printf(\"Implemented CUDA code ran in: %f msecs.\\n\", timer2.Elapsed());\n",
        "\n",
        "    // transfer to CPU\n",
        "    timer3.Start();\n",
        "    cudaMemcpy(h_C, d_C, sizeC, cudaMemcpyDeviceToHost);\n",
        "    timer3.Stop();\n",
        "    printf(\"Time to copy the resulting Matrix from device to host is: %f msecs.\\n\", timer3.Elapsed());\n",
        "\n",
        "    clock_t begin = clock();\n",
        "    matMulCPU(h_A, h_B, h_C_CPU, numARows, numACols, numBCols);\n",
        "    clock_t end = clock();\n",
        "    double time_spent = (double)(end - begin) / CLOCKS_PER_SEC * 1000;\n",
        "    printf(\"Implemented CPU code ran in: %f msecs.\\n\", time_spent);\n",
        "\n",
        "    free(h_A); free(h_B); free(h_C); free(h_C_CPU);\n",
        "    cudaFree(d_A); cudaFree(d_B); cudaFree(d_C);\n",
        "    printf(\"Done\");\n",
        "\n",
        "    return 0;\n",
        "}"
      ],
      "metadata": {
        "id": "gfRFN7y9rrFJ",
        "colab": {
          "base_uri": "https://localhost:8080/",
          "height": 0
        },
        "outputId": "8a47ffc2-5889-4d15-9030-9761e292e796"
      },
      "execution_count": 10,
      "outputs": [
        {
          "output_type": "stream",
          "name": "stdout",
          "text": [
            "Writing matmul.cu\n"
          ]
        }
      ]
    },
    {
      "cell_type": "markdown",
      "source": [
        "### Multiplicacion de matrices tiled"
      ],
      "metadata": {
        "id": "9GRLNoKVcGgb"
      }
    },
    {
      "cell_type": "code",
      "source": [
        "%%writefile matmulTiled.cu\n",
        "#include \"cuda_runtime.h\"\n",
        "#include \"device_launch_parameters.h\"\n",
        "#include <math.h>\n",
        "#include <stdio.h>\n",
        "#include <time.h>\n",
        "#include <iostream>\n",
        "#include <stdlib.h>\n",
        "#include \"GpuTimer.h\"\n",
        "using namespace std;\n",
        "\n",
        "#define BLOCK_SIZE 16\n",
        "#define TILE_WIDTH 16\n",
        "\n",
        "void matMulCPU(float* A, float* B, float* C, int numARows, int numACols, int numBCols) {\n",
        "    int i, j, k;\n",
        "    int offsetA, offsetB;\n",
        "    float cumSum;\n",
        "\n",
        "    for (i = 0; i < numARows; i++) {\n",
        "        for (j = 0; j < numBCols; j++) {\n",
        "            cumSum = 0;\n",
        "            for (k = 0; k < numACols; k++) {\n",
        "                // linearize index\n",
        "                offsetA = i*numACols + k;\n",
        "                offsetB = k*numBCols + j;\n",
        "\n",
        "                // accumulate element-wise product\n",
        "                cumSum += A[offsetA] * B[offsetB];\n",
        "            }\n",
        "            C[i*numBCols + j] = cumSum;\n",
        "        }\n",
        "    }\n",
        "}\n",
        "\n",
        "__global__ void matMulGPU(float* A, float* B, float* C, int numARows, int numACols, int numBCols) {\n",
        "    // allocate shared memory\n",
        "    __shared__ float sharedA[TILE_WIDTH][TILE_WIDTH];\n",
        "    __shared__ float sharedB[TILE_WIDTH][TILE_WIDTH];\n",
        "\n",
        "    int bx = blockIdx.x; int by = blockIdx.y;\n",
        "    int tx = threadIdx.x; int ty = threadIdx.y;\n",
        "\n",
        "    // coordinates for C\n",
        "    int row = by * TILE_WIDTH + ty;\n",
        "    int col = bx * TILE_WIDTH + tx;\n",
        "\n",
        "    float cumSum = 0;\n",
        "    for (int m = 0; m < ceil(numACols/(float)TILE_WIDTH); m++) {\n",
        "        // load tiles\n",
        "        if ((row < numARows) && ((m*TILE_WIDTH + tx) < numACols))\n",
        "            sharedA[ty][tx] = A[row*numACols + m*TILE_WIDTH + tx];\n",
        "        else\n",
        "            sharedA[ty][tx] = 0;\n",
        "        if ((col < numBCols) && ((m*TILE_WIDTH + ty) < numACols))\n",
        "            sharedB[ty][tx] = B[(m*TILE_WIDTH + ty)*numBCols + col];\n",
        "        else\n",
        "            sharedB[ty][tx] = 0;\n",
        "        // pause until all threads have loaded tile values\n",
        "        __syncthreads();\n",
        "\n",
        "        // compute partial dot product (for individual thread)\n",
        "        for (int k = 0; k < TILE_WIDTH; k++) {\n",
        "            cumSum += sharedA[ty][k] * sharedB[k][tx];\n",
        "        }\n",
        "        // wait until all threads have used tile values\n",
        "        __syncthreads();\n",
        "    }\n",
        "    if((row < numACols) && (col < numBCols)) {\n",
        "        C[row*numBCols + col] = cumSum;\n",
        "    }\n",
        "}\n",
        "\n",
        "\n",
        "int main(int argc, char* argv[]) {\n",
        "    int numARows = 960;\n",
        "    int numACols = 640;\n",
        "    int numBCols = 800;\n",
        "\n",
        "    if (argc == 4) {\n",
        "        numARows = std::stoi(argv[1]);\n",
        "        numACols = std::stoi(argv[2]);\n",
        "        numBCols = std::stoi(argv[3]);\n",
        "    }\n",
        "\n",
        "    cout<<\"Size of matrix A: \"<<numARows<<\" \"<<numACols<<endl;\n",
        "    cout<<\"Size of matrix B: \"<<numACols<<\" \"<<numBCols<<endl;\n",
        "\n",
        "    // timers\n",
        "    GpuTimer timer0, timer1, timer2, timer3;\n",
        "\n",
        "    size_t sizeA = numARows * numACols * sizeof(float);\n",
        "    size_t sizeB = numACols * numBCols * sizeof(float);\n",
        "    size_t sizeC = numARows * numBCols * sizeof(float);\n",
        "\n",
        "    // allocate host memory\n",
        "    float* h_A = (float*)malloc(sizeA);\n",
        "    float* h_B = (float*)malloc(sizeB);\n",
        "    float* h_C = (float*)malloc(sizeC);\n",
        "    float* h_C_CPU = (float*)malloc(sizeC);\n",
        "\n",
        "    // initialize host matrices\n",
        "    int i, j, offset;\n",
        "    for (i = 0; i <  numARows; i++) {\n",
        "        for (j = 0; j < numACols; j++) {\n",
        "            offset = i*numACols + j;\n",
        "            h_A[offset] = sin(i);\n",
        "        }\n",
        "    }\n",
        "    for (i = 0; i <  numACols; i++) {\n",
        "        for (j = 0; j < numBCols; j++) {\n",
        "            offset = i*numBCols + j;\n",
        "            h_B[offset] = cos(j);\n",
        "        }\n",
        "    }\n",
        "\n",
        "    // allocate device matrices\n",
        "    float* d_A;\n",
        "    float* d_B;\n",
        "    float* d_C;\n",
        "    timer0.Start();\n",
        "    cudaMalloc((void**)&d_A, sizeA);\n",
        "    cudaMalloc((void**)&d_B, sizeB);\n",
        "    cudaMalloc((void**)&d_C, sizeC);\n",
        "    timer0.Stop();\n",
        "    printf(\"Time to allocate memory on the device is: %f msecs.\\n\", timer0.Elapsed());\n",
        "\n",
        "    // transfer to GPU\n",
        "    timer1.Start();\n",
        "    cudaMemcpy(d_A, h_A, sizeA, cudaMemcpyHostToDevice);\n",
        "    cudaMemcpy(d_B, h_B, sizeB, cudaMemcpyHostToDevice);\n",
        "    timer1.Stop();\n",
        "    printf(\"Time to copy the Matrix from host to device is: %f msecs.\\n\", timer1.Elapsed());\n",
        "\n",
        "    // kernel launch\n",
        "    dim3 threadPerBlock(BLOCK_SIZE, BLOCK_SIZE, 1);\n",
        "    dim3 blockPerGrid(ceil(numBCols/(float)BLOCK_SIZE), ceil(numACols/(float)BLOCK_SIZE), 1);\n",
        "    timer2.Start();\n",
        "    matMulGPU<<<blockPerGrid, threadPerBlock>>>(d_A, d_B, d_C, numARows, numACols, numBCols);\n",
        "    timer2.Stop();\n",
        "    printf(\"Implemented CUDA code ran in: %f msecs.\\n\", timer2.Elapsed());\n",
        "\n",
        "    // transfer to CPU\n",
        "    timer3.Start();\n",
        "    cudaMemcpy(h_C, d_C, sizeC, cudaMemcpyDeviceToHost);\n",
        "    timer3.Stop();\n",
        "    printf(\"Time to copy the resulting Matrix from device to host is: %f msecs.\\n\", timer3.Elapsed());\n",
        "\n",
        "    clock_t begin = clock();\n",
        "    matMulCPU(h_A, h_B, h_C_CPU, numARows, numACols, numBCols);\n",
        "    clock_t end = clock();\n",
        "    double time_spent = (double)(end - begin) / CLOCKS_PER_SEC * 1000;\n",
        "    printf(\"Implemented CPU code ran in: %f msecs.\\n\", time_spent);\n",
        "\n",
        "    free(h_A); free(h_B); free(h_C); free(h_C_CPU);\n",
        "    cudaFree(d_A); cudaFree(d_B); cudaFree(d_C);\n",
        "\n",
        "    return 0;\n",
        "}"
      ],
      "metadata": {
        "colab": {
          "base_uri": "https://localhost:8080/",
          "height": 0
        },
        "id": "FJJ2iodPbmhe",
        "outputId": "745a9ac2-07f7-491d-fe56-b45e1e3597d2"
      },
      "execution_count": 11,
      "outputs": [
        {
          "output_type": "stream",
          "name": "stdout",
          "text": [
            "Writing matmulTiled.cu\n"
          ]
        }
      ]
    },
    {
      "cell_type": "markdown",
      "source": [
        "### Timer para medir ejecucion en cuda"
      ],
      "metadata": {
        "id": "siiqAlCCa0JN"
      }
    },
    {
      "cell_type": "code",
      "source": [
        "# Archivo para tomar tiempos\n",
        "%%writefile GpuTimer.h\n",
        "#ifndef __GPU_TIMER_H__\n",
        "#define __GPU_TIMER_H__\n",
        "\n",
        "struct GpuTimer{\n",
        "      cudaEvent_t start;\n",
        "      cudaEvent_t stop;\n",
        "\n",
        "      GpuTimer(){\n",
        "            cudaEventCreate(&start);\n",
        "            cudaEventCreate(&stop);\n",
        "      }\n",
        "\n",
        "      ~GpuTimer(){\n",
        "            cudaEventDestroy(start);\n",
        "            cudaEventDestroy(stop);\n",
        "      }\n",
        "\n",
        "      void Start(){cudaEventRecord(start, 0);}\n",
        "\n",
        "      void Stop(){cudaEventRecord(stop, 0);}\n",
        "\n",
        "      float Elapsed(){\n",
        "            float elapsed;\n",
        "            cudaEventSynchronize(stop);\n",
        "            cudaEventElapsedTime(&elapsed, start, stop);\n",
        "            return elapsed;\n",
        "      }\n",
        "};\n",
        "\n",
        "#endif  /* __GPU_TIMER_H__ */"
      ],
      "metadata": {
        "colab": {
          "base_uri": "https://localhost:8080/",
          "height": 0
        },
        "id": "eS_pqD6rav02",
        "outputId": "2942f143-1876-4a59-eefd-bb327c9b0cf5"
      },
      "execution_count": 12,
      "outputs": [
        {
          "output_type": "stream",
          "name": "stdout",
          "text": [
            "Writing GpuTimer.h\n"
          ]
        }
      ]
    },
    {
      "cell_type": "markdown",
      "source": [
        "### Script para ejecutar algunos experimentos"
      ],
      "metadata": {
        "id": "a736xEWRZQOk"
      }
    },
    {
      "cell_type": "code",
      "source": [
        "%%writefile runExperiment.sh\n",
        "#!/bin/bash\n",
        "\n",
        "# Parámetros de la lista a, b y c\n",
        "a=(1080 1440 1800 2160 2520 2880 3240 3600 3960 4320)\n",
        "b=(720 960 1200 1440 1680 1920 2160 2400 2640 2880)\n",
        "c=(900 1200 1500 1800 2100 2400 2700 3000 3300 3600)\n",
        "\n",
        "# Número de iteraciones\n",
        "n=5\n",
        "\n",
        "# Ejecutar matmul n veces con diferentes parámetros\n",
        "for ((i=1; i<=$n; i++))\n",
        "do\n",
        "  # Obtener los parámetros para la iteración actual\n",
        "  param_a=${a[$((i % ${#a[@]}))]}\n",
        "  param_b=${b[$((i % ${#b[@]}))]}\n",
        "  param_c=${c[$((i % ${#c[@]}))]}\n",
        "\n",
        "  # Ejecutar el programa matmul con los parámetros actuales\n",
        "  output=$(./matmul $param_a $param_b $param_c)\n",
        "\n",
        "  # Extraer el tiempo de ejecución de CUDA\n",
        "  cuda_time=$(echo \"$output\" | grep -oE 'Implemented CUDA code ran in: [0-9.]+ msecs.' | awk '{print $6}')\n",
        "\n",
        "  # Extraer el tiempo de ejecución de la CPU\n",
        "  cpu_time=$(echo \"$output\" | grep -oE 'Implemented CPU code ran in: [0-9.]+ msecs.' | awk '{print $6}')\n",
        "\n",
        "  # Ejecutar el programa matmul con los parámetros actuales\n",
        "  output=$(./matmulTiled $param_a $param_b $param_c)\n",
        "\n",
        "  # Extraer el tiempo de ejecución de CUDA\n",
        "  cudaT_time=$(echo \"$output\" | grep -oE 'Implemented CUDA code ran in: [0-9.]+ msecs.' | awk '{print $6}')\n",
        "\n",
        "  # Extraer el tiempo de ejecución de la CPU\n",
        "  cpuT_time=$(echo \"$output\" | grep -oE 'Implemented CPU code ran in: [0-9.]+ msecs.' | awk '{print $6}')\n",
        "\n",
        "  # Imprimir los resultados\n",
        "  echo \"$i: $cuda_time $cpu_time $cudaT_time $cpuT_time\"\n",
        "done"
      ],
      "metadata": {
        "colab": {
          "base_uri": "https://localhost:8080/",
          "height": 0
        },
        "id": "c_LZSubmZWHA",
        "outputId": "2daaf9e6-8374-43d2-9a6b-207d241a14a0"
      },
      "execution_count": 13,
      "outputs": [
        {
          "output_type": "stream",
          "name": "stdout",
          "text": [
            "Writing runExperiment.sh\n"
          ]
        }
      ]
    },
    {
      "cell_type": "markdown",
      "source": [
        "### Resultados ya calculados"
      ],
      "metadata": {
        "id": "kh22hVJ8ZfV3"
      }
    },
    {
      "cell_type": "code",
      "source": [
        "%%writefile output.txt\n",
        "1: 7.780960 5283.247000 4.754688 5385.001000\n",
        "2: 12.743456 11217.220000 9.397920 11594.978000\n",
        "3: 26.355295 23999.709000 16.505344 23775.906000\n",
        "4: 35.171200 49055.120000 25.694719 48780.736000\n",
        "5: 61.948929 69262.638000 38.748383 67728.675000"
      ],
      "metadata": {
        "colab": {
          "base_uri": "https://localhost:8080/",
          "height": 0
        },
        "id": "CabsjLG7Zkm1",
        "outputId": "bc5544d1-af09-4195-d43c-52140b8ea563"
      },
      "execution_count": 14,
      "outputs": [
        {
          "output_type": "stream",
          "name": "stdout",
          "text": [
            "Overwriting output.txt\n"
          ]
        }
      ]
    },
    {
      "cell_type": "markdown",
      "source": [
        "## Introducción\n",
        "Se implementaron las técnicas para convertir una imagen a escala de grises y la aplicación de filtro blur en CUDA. Los códigos se ejecutaron en Colab"
      ],
      "metadata": {
        "id": "C16EYdjaO--k"
      }
    },
    {
      "cell_type": "markdown",
      "source": [
        "# Comprobar que CUDA este funcionando correctamente"
      ],
      "metadata": {
        "id": "mU5Uk3CVQMIm"
      }
    },
    {
      "cell_type": "code",
      "execution_count": 15,
      "metadata": {
        "colab": {
          "base_uri": "https://localhost:8080/",
          "height": 0
        },
        "id": "UzolSBP3s1Il",
        "outputId": "9d140b35-1e2b-47bc-e1d4-0d6f45d3f719"
      },
      "outputs": [
        {
          "output_type": "stream",
          "name": "stdout",
          "text": [
            "bin    cuda\tcuda-11.8  games\t       include\tlib64\t   man\t share\n",
            "colab  cuda-11\tetc\t   _gcs_config_ops.so  lib\tlicensing  sbin  src\n"
          ]
        }
      ],
      "source": [
        "# Comprobar que Cuda toolkit este instalado\n",
        "!ls /usr/local"
      ]
    },
    {
      "cell_type": "code",
      "source": [
        "# Comprobar si se tiene el comando nvcc\n",
        "!which nvcc"
      ],
      "metadata": {
        "colab": {
          "base_uri": "https://localhost:8080/",
          "height": 0
        },
        "id": "9C782RpKwlfH",
        "outputId": "d8347c13-1627-4ba6-811f-e4fa8f14e788"
      },
      "execution_count": 16,
      "outputs": [
        {
          "output_type": "stream",
          "name": "stdout",
          "text": [
            "/usr/local/cuda/bin/nvcc\n"
          ]
        }
      ]
    },
    {
      "cell_type": "code",
      "source": [
        "# Escribir archivo hello world para cuda\n",
        "%%writefile hello.cu\n",
        "\n",
        "#include <cstdio>\n",
        "#include <cuda.h>\n",
        "__global__ void hello(void)\n",
        "{\n",
        "  printf(\"GPU: Hello!\\n\");\n",
        "}\n",
        "int main(int argc,char **argv)\n",
        "{\n",
        "  printf(\"CPU: Hello!\\n\");\n",
        "  hello<<<1,10>>>();\n",
        "  cudaDeviceReset();\n",
        "  return 0;\n",
        "}\n"
      ],
      "metadata": {
        "colab": {
          "base_uri": "https://localhost:8080/",
          "height": 0
        },
        "id": "d-PQ71e6xv8x",
        "outputId": "b6a3d6d5-4dd4-4354-82eb-d8065b6d9c46"
      },
      "execution_count": 17,
      "outputs": [
        {
          "output_type": "stream",
          "name": "stdout",
          "text": [
            "Writing hello.cu\n"
          ]
        }
      ]
    },
    {
      "cell_type": "code",
      "source": [
        "# Compilar hello.cu\n",
        "!nvcc -arch=sm_37 -gencode=arch=compute_37,code=sm_37 hello.cu -o hello"
      ],
      "metadata": {
        "colab": {
          "base_uri": "https://localhost:8080/",
          "height": 0
        },
        "id": "umjDHVndx1iZ",
        "outputId": "5034969a-4fa8-458a-b167-b212033f5034"
      },
      "execution_count": 18,
      "outputs": [
        {
          "output_type": "stream",
          "name": "stdout",
          "text": [
            "nvcc warning : The 'compute_35', 'compute_37', 'sm_35', and 'sm_37' architectures are deprecated, and may be removed in a future release (Use -Wno-deprecated-gpu-targets to suppress warning).\n"
          ]
        }
      ]
    },
    {
      "cell_type": "code",
      "source": [
        "# Ejecutar programa\n",
        "!./hello"
      ],
      "metadata": {
        "colab": {
          "base_uri": "https://localhost:8080/",
          "height": 0
        },
        "id": "vFUY2hENy7hR",
        "outputId": "5bcc982a-7d33-4311-dc54-77dd13933d2e"
      },
      "execution_count": 19,
      "outputs": [
        {
          "output_type": "stream",
          "name": "stdout",
          "text": [
            "CPU: Hello!\n",
            "GPU: Hello!\n",
            "GPU: Hello!\n",
            "GPU: Hello!\n",
            "GPU: Hello!\n",
            "GPU: Hello!\n",
            "GPU: Hello!\n",
            "GPU: Hello!\n",
            "GPU: Hello!\n",
            "GPU: Hello!\n",
            "GPU: Hello!\n"
          ]
        }
      ]
    },
    {
      "cell_type": "markdown",
      "source": [
        "Cuda esta funcionando correctamente."
      ],
      "metadata": {
        "id": "56Tekj8JRGpO"
      }
    },
    {
      "cell_type": "markdown",
      "source": [
        "# Ejecucion de del codigo"
      ],
      "metadata": {
        "id": "TxfC7FjrcDTp"
      }
    },
    {
      "cell_type": "markdown",
      "source": [
        "### Multiplicacion de matrices"
      ],
      "metadata": {
        "id": "guZiWYIrcJbS"
      }
    },
    {
      "cell_type": "code",
      "source": [
        "!nvcc matmul.cu -o matmul"
      ],
      "metadata": {
        "id": "7JjBsuP1cIVo"
      },
      "execution_count": 20,
      "outputs": []
    },
    {
      "cell_type": "code",
      "source": [
        "!./matmul"
      ],
      "metadata": {
        "colab": {
          "base_uri": "https://localhost:8080/",
          "height": 0
        },
        "id": "Atbz9v7ecrvt",
        "outputId": "a1a0be5d-4861-4d4e-f398-36b5adede226"
      },
      "execution_count": 21,
      "outputs": [
        {
          "output_type": "stream",
          "name": "stdout",
          "text": [
            "Size of matrix A: 960 640\n",
            "Size of matrix B: 640 800\n",
            "Time to allocate memory on the device is: 0.374784 msecs.\n",
            "Time to copy the Matrix from host to device is: 1.212640 msecs.\n",
            "Implemented CUDA code ran in: 2.813024 msecs.\n",
            "Time to copy the resulting Matrix from device to host is: 2.237152 msecs.\n",
            "Implemented CPU code ran in: 3087.554000 msecs.\n",
            "Done"
          ]
        }
      ]
    },
    {
      "cell_type": "markdown",
      "source": [
        "### Multiplicacion de matrices por bloques"
      ],
      "metadata": {
        "id": "FzcTg6G7cwsb"
      }
    },
    {
      "cell_type": "code",
      "source": [
        "!nvcc matmulTiled.cu -o matmulTiled"
      ],
      "metadata": {
        "id": "bTNCvoQXc2Ud"
      },
      "execution_count": 22,
      "outputs": []
    },
    {
      "cell_type": "code",
      "source": [
        "!./matmulTiled"
      ],
      "metadata": {
        "colab": {
          "base_uri": "https://localhost:8080/",
          "height": 0
        },
        "id": "y3pgrjMyc5Xi",
        "outputId": "ae319b65-9d98-437f-b182-50ec9ce6dc76"
      },
      "execution_count": 23,
      "outputs": [
        {
          "output_type": "stream",
          "name": "stdout",
          "text": [
            "Size of matrix A: 960 640\n",
            "Size of matrix B: 640 800\n",
            "Time to allocate memory on the device is: 0.462848 msecs.\n",
            "Time to copy the Matrix from host to device is: 1.240704 msecs.\n",
            "Implemented CUDA code ran in: 1.786080 msecs.\n",
            "Time to copy the resulting Matrix from device to host is: 2.485376 msecs.\n",
            "Implemented CPU code ran in: 3331.978000 msecs.\n"
          ]
        }
      ]
    },
    {
      "cell_type": "markdown",
      "source": [
        "# Explicación del código"
      ],
      "metadata": {
        "id": "mnVy3CT29FNg"
      }
    },
    {
      "cell_type": "markdown",
      "source": [
        "Se ejecutan 2 implementaciones para realizar la comparacion de tiempos de la multiplicacion de matrices, uno en CPU y otro en GPU"
      ],
      "metadata": {
        "id": "J62zi66Db1u8"
      }
    },
    {
      "cell_type": "markdown",
      "source": [
        "## Mutliplicacion de matrices"
      ],
      "metadata": {
        "id": "dp4b3HNOaLB3"
      }
    },
    {
      "cell_type": "markdown",
      "source": [
        "### Multiplicacion en CPU"
      ],
      "metadata": {
        "id": "3UAoUGocaNd4"
      }
    },
    {
      "cell_type": "markdown",
      "source": [
        "La multiplicacion en CPU es la multiplicación clásica, por se multiplica cada fila por cada columna las cuales se acumulan en el bucle interior.\n",
        "\n",
        "```cpp\n",
        "void matMulCPU(float* A, float* B, float* C, int numARows, int numACols, int numBCols) {\n",
        "    int i, j, k;\n",
        "    int offsetA, offsetB;\n",
        "    float cumSum;\n",
        "\n",
        "    for (i = 0; i < numARows; i++) {\n",
        "        for (j = 0; j < numBCols; j++) {\n",
        "            cumSum = 0;\n",
        "            for (k = 0; k < numACols; k++) {\n",
        "                // linearize index\n",
        "                offsetA = i*numACols + k;\n",
        "                offsetB = k*numBCols + j;\n",
        "\n",
        "                // accumulate element-wise product\n",
        "                cumSum += A[offsetA] * B[offsetB];\n",
        "            }\n",
        "            C[i*numBCols + j] = cumSum;\n",
        "        }\n",
        "    }\n",
        "}\n",
        "```\n",
        "En el main se ejecuta de manera trivial, llamando a la función."
      ],
      "metadata": {
        "id": "CVhNeGS8boXS"
      }
    },
    {
      "cell_type": "markdown",
      "source": [
        "### Multiplicacion en GPU"
      ],
      "metadata": {
        "id": "IUOm-lYHaarf"
      }
    },
    {
      "cell_type": "markdown",
      "source": [
        "Se realiza la multiplicacion en el GPU, se utiliza `__global__` para indicar que se ejecuta en el GPU, recibe como en la anterior funcion las matrices A, B y C junto con sus tamaños.\n",
        "\n",
        "```cpp\n",
        "__global__ void matMulGPU(float* A, float* B, float* C, int numARows, int numACols, int numBCols) {\n",
        "\n",
        "```\n",
        "\n",
        "En este caso calcula la posicion de los indices basado en el indice y dimension del bloque.\n",
        "\n",
        "```cpp\n",
        "    // compute global thread coordinates\n",
        "    int row = blockIdx.y * blockDim.y + threadIdx.y;\n",
        "    int col = blockIdx.x * blockDim.x + threadIdx.x;\n",
        "\n",
        "    // linearize coordinates for data access\n",
        "    int offset = row * numBCols + col;\n",
        "```\n",
        "Y finalmente realiza la operacion normalmente, pero cuidando de no salirse del rango de la matriz\n",
        "\n",
        "```cpp\n",
        "    if ((row < numARows) && (col < numBCols)) {\n",
        "        float cumSum = 0;\n",
        "        for (int k = 0; k < numACols; k++) {\n",
        "            cumSum += A[row*numACols + k] * B[k*numBCols + col];\n",
        "        }\n",
        "        C[offset] = cumSum;\n",
        "    }\n",
        "}\n",
        "```"
      ],
      "metadata": {
        "id": "9HwvghcFafgk"
      }
    },
    {
      "cell_type": "markdown",
      "source": [
        "### Multiplicación de matrices por bloques o tiled"
      ],
      "metadata": {
        "id": "U7mcfy-_sbP1"
      }
    },
    {
      "cell_type": "markdown",
      "source": [
        "La multiplicación en GPU se realiza de la siguiente manera:\n",
        "\n",
        "Con el indicador `__global__` se ejecutara en el device, recibe igualmente las matrices con sus respectivos tamaños\n",
        "\n",
        "```cpp\n",
        "__global__ void matMulGPU(float* A, float* B, float* C, int numARows, int numACols, int numBCols) {\n",
        "```\n",
        "Para la multiplicación de matrices tiled utilizaremos memoria compartida en cuda, esta se declara con el indicador `__shared__` para que todos los threads dentro del bloque puedan acceder\n",
        "```cpp\n",
        "\n",
        "    // allocate shared memory\n",
        "    __shared__ float sharedA[TILE_WIDTH][TILE_WIDTH];\n",
        "    __shared__ float sharedB[TILE_WIDTH][TILE_WIDTH];\n",
        "```\n",
        "Calculamos las coordenadas a partir del indice del thread, del bloque y el tamaño del TILE\n",
        "```cpp\n",
        "    int bx = blockIdx.x;\n",
        "    int by = blockIdx.y;\n",
        "    int tx = threadIdx.x;\n",
        "    int ty = threadIdx.y;\n",
        "\n",
        "    // coordinates for C\n",
        "    int row = by * TILE_WIDTH + ty;\n",
        "    int col = bx * TILE_WIDTH + tx;\n",
        "\n",
        "    float cumSum = 0;\n",
        "```\n",
        "Realizara el calculo dentro del tiled o bloque designado. Realiza las fases. Cada thread colabora para subir a memoria compartida los elementos que le corresponden al bloque. Un thread cargaría el elemento en M,N\n",
        "```cpp\n",
        "    for (int m = 0; m < ceil(numACols/(float)TILE_WIDTH); m++) {\n",
        "        // load tiles\n",
        "        if ((row < numARows) && ((m*TILE_WIDTH + tx) < numACols))\n",
        "            sharedA[ty][tx] = A[row*numACols + m*TILE_WIDTH + tx];\n",
        "        else\n",
        "            sharedA[ty][tx] = 0;\n",
        "        if ((col < numBCols) && ((m*TILE_WIDTH + ty) < numACols))\n",
        "            sharedB[ty][tx] = B[(m*TILE_WIDTH + ty)*numBCols + col];\n",
        "        else\n",
        "            sharedB[ty][tx] = 0;\n",
        "        // pause until all threads have loaded tile values\n",
        "        __syncthreads();\n",
        "```\n",
        "Calculamos el producto punto parcial en cumSum, es una variable privada del tread para despues guardar su valor.\n",
        "```cpp\n",
        "        // compute partial dot product (for individual thread)\n",
        "        for (int k = 0; k < TILE_WIDTH; k++) {\n",
        "            cumSum += sharedA[ty][k] * sharedB[k][tx];\n",
        "        }\n",
        "        // wait until all threads have used tile values\n",
        "        __syncthreads();\n",
        "    }\n",
        "    if((row < numACols) && (col < numBCols)) {\n",
        "        C[row*numBCols + col] = cumSum;\n",
        "    }\n",
        "}\n",
        "```"
      ],
      "metadata": {
        "id": "ZDAywZBoh6NC"
      }
    },
    {
      "cell_type": "markdown",
      "source": [
        "### Inicializacion de valores en main"
      ],
      "metadata": {
        "id": "m0XnYo8Ra52T"
      }
    },
    {
      "cell_type": "markdown",
      "source": [
        "Calcula el tamaño que necesita para almacenar los valores de las matrice\n",
        "```cpp\n",
        "    size_t sizeA = numARows * numACols * sizeof(float);\n",
        "    size_t sizeB = numACols * numBCols * sizeof(float);\n",
        "    size_t sizeC = numARows * numBCols * sizeof(float);\n",
        "```\n",
        "Reserva la memoria en el host\n",
        "```cpp\n",
        "    // allocate host memory\n",
        "    float* h_A = (float*)malloc(sizeA);\n",
        "    float* h_B = (float*)malloc(sizeB);\n",
        "    float* h_C = (float*)malloc(sizeC);\n",
        "    float* h_C_CPU = (float*)malloc(sizeC);\n",
        "```\n",
        "Y los inicializa\n",
        "```cpp\n",
        "    // initialize host matrices\n",
        "    int i, j, offset;\n",
        "    for (i = 0; i <  numARows; i++) {\n",
        "        for (j = 0; j < numACols; j++) {\n",
        "            offset = i*numACols + j;\n",
        "            h_A[offset] = sin(i);\n",
        "        }\n",
        "    }\n",
        "    for (i = 0; i <  numACols; i++) {\n",
        "        for (j = 0; j < numBCols; j++) {\n",
        "            offset = i*numBCols + j;\n",
        "            h_B[offset] = cos(j);\n",
        "        }\n",
        "    }\n",
        "```"
      ],
      "metadata": {
        "id": "177mK2L5a7Vy"
      }
    },
    {
      "cell_type": "markdown",
      "source": [
        "### Ejecucion en GPU\n"
      ],
      "metadata": {
        "id": "VKKAfHy6hX4H"
      }
    },
    {
      "cell_type": "markdown",
      "source": [
        "Para ejecutar el codigo en GPU lo primero que debemos hacer es asignar memoria en el device con `cudaMalloc`, lo almacena en los punteros definidos con los tamaños previamente calculados.\n",
        "```cpp\n",
        "    // allocate device matrices\n",
        "    float* d_A;\n",
        "    float* d_B;\n",
        "    float* d_C;\n",
        "    timer0.Start();\n",
        "    cudaMalloc((void**)&d_A, sizeA);\n",
        "    cudaMalloc((void**)&d_B, sizeB);\n",
        "    cudaMalloc((void**)&d_C, sizeC);\n",
        "    timer0.Stop();\n",
        "    printf(\"Time to allocate memory on the device is: %f msecs.\\n\", timer0.Elapsed());\n",
        "```\n",
        "Ahora tiene que enviar la información al GPU, lo realiza con `cudaMemcpy` donde `d_A` es el destino, `h_A` el origen, `sizeA` el tamaño y `cudaMemcpyHostToDevice` es el tipo de operación de copia que indica que va del device al host.\n",
        "```cpp\n",
        "    // transfer to GPU\n",
        "    timer1.Start();\n",
        "    cudaMemcpy(d_A, h_A, sizeA, cudaMemcpyHostToDevice);\n",
        "    cudaMemcpy(d_B, h_B, sizeB, cudaMemcpyHostToDevice);\n",
        "    timer1.Stop();\n",
        "    printf(\"Time to copy the Matrix from host to device is: %f msecs.\\n\", timer1.Elapsed());\n",
        "```\n",
        "Define la cantidad de threads que estarán en cada bloque `threadPerBlock` y la cantidad de bloques `blockPerGrid`.\n",
        "\n",
        "Invoca a la funcion con los parámetros ya indicados.\n",
        "\n",
        "```cpp\n",
        "    // kernel launch\n",
        "    dim3 threadPerBlock(BLOCK_SIZE, BLOCK_SIZE, 1);\n",
        "    dim3 blockPerGrid(ceil(numBCols/(float)BLOCK_SIZE), ceil(numACols/(float)BLOCK_SIZE), 1);\n",
        "    timer2.Start();\n",
        "    matMulGPU<<<blockPerGrid, threadPerBlock>>>(d_A, d_B, d_C, numARows, numACols, numBCols);\n",
        "    timer2.Stop();\n",
        "    printf(\"Implemented CUDA code ran in: %f msecs.\\n\", timer2.Elapsed());\n",
        "```\n",
        "Y finalmente copia de regreso los valores del device al host.\n",
        "```cpp\n",
        "    // transfer to CPU\n",
        "    timer3.Start();\n",
        "    cudaMemcpy(h_C, d_C, sizeC, cudaMemcpyDeviceToHost);\n",
        "    timer3.Stop();\n",
        "    printf(\"Time to copy the resulting Matrix from device to host is: %f msecs.\\n\", timer3.Elapsed());\n",
        "```\n",
        "Al final de realizar las operaciones se libera la memoria\n",
        "```cpp\n",
        "    cudaFree(d_A); cudaFree(d_B); cudaFree(d_C);\n",
        "```"
      ],
      "metadata": {
        "id": "BZP6RSSKbrXn"
      }
    },
    {
      "cell_type": "markdown",
      "source": [
        "# Ejecución del experimento"
      ],
      "metadata": {
        "id": "HkYnKFs_skF1"
      }
    },
    {
      "cell_type": "markdown",
      "source": [
        "Los tamaños de la matriz escogidos son mayores a 500, van de 360 a 360 y son multiplos de 3, 4 y 5"
      ],
      "metadata": {
        "id": "fhB8R-wsvfCV"
      }
    },
    {
      "cell_type": "code",
      "source": [
        "!./runExperiment.sh >> output.txt"
      ],
      "metadata": {
        "colab": {
          "base_uri": "https://localhost:8080/",
          "height": 0
        },
        "id": "rf9jxWOksi8y",
        "outputId": "0de67bd7-d92e-440d-bba7-7e372801f0b3"
      },
      "execution_count": 24,
      "outputs": [
        {
          "output_type": "stream",
          "name": "stdout",
          "text": [
            "/bin/bash: ./runExperiment.sh: Permission denied\n"
          ]
        }
      ]
    },
    {
      "cell_type": "markdown",
      "source": [
        "##Visualizacion del resultado"
      ],
      "metadata": {
        "id": "Z9r5OIFnxcWd"
      }
    },
    {
      "cell_type": "code",
      "source": [
        "import matplotlib.pyplot as plt\n",
        "import math\n",
        "# Leer datos del archivo\n",
        "tiempos = []\n",
        "valores1 = []\n",
        "valores2 = []\n",
        "valores3 = []\n",
        "\n",
        "with open(\"output.txt\", \"r\") as archivo:\n",
        "    for linea in archivo:\n",
        "        partes = linea.split()\n",
        "        tiempos.append(int(partes[0].strip(':')))\n",
        "        valores1.append(math.log(float(partes[1]),2))\n",
        "        valores2.append(math.log(float(partes[2]),2))\n",
        "        valores3.append(math.log(float(partes[3]),2))\n",
        "\n",
        "# Graficar los datos\n",
        "plt.plot(tiempos, valores1, label='Mutlplicacion en GPU')\n",
        "plt.plot(tiempos, valores2, label='Multiplicacion en CPU')\n",
        "plt.plot(tiempos, valores3, label='Multiplicacion en bloques GPU')\n",
        "\n",
        "# Configurar la leyenda y los ejes\n",
        "plt.legend()\n",
        "plt.xlabel('Tamaño de la matriz')\n",
        "plt.ylabel('Tiempo log(msec)')\n",
        "\n",
        "# Mostrar el gráfico\n",
        "plt.show()"
      ],
      "metadata": {
        "colab": {
          "base_uri": "https://localhost:8080/",
          "height": 466
        },
        "id": "WLZsj9C8tI5u",
        "outputId": "da1d7101-1190-4de9-d91d-fc246a0abe20"
      },
      "execution_count": 28,
      "outputs": [
        {
          "output_type": "execute_result",
          "data": {
            "text/plain": [
              "Text(0, 0.5, 'Tiempo log(msec)')"
            ]
          },
          "metadata": {},
          "execution_count": 28
        },
        {
          "output_type": "display_data",
          "data": {
            "text/plain": [
              "<Figure size 640x480 with 1 Axes>"
            ],
            "image/png": "[encoded data removed]"
          },
          "metadata": {}
        }
      ]
    },
    {
      "cell_type": "code",
      "source": [
        "import matplotlib.pyplot as plt\n",
        "# Leer datos del archivo\n",
        "tiempos = []\n",
        "valores1 = []\n",
        "valores3 = []\n",
        "\n",
        "with open(\"output.txt\", \"r\") as archivo:\n",
        "    for linea in archivo:\n",
        "        partes = linea.split()\n",
        "        tiempos.append(int(partes[0].strip(':')))\n",
        "        valores1.append(float(partes[1]))\n",
        "        valores3.append(float(partes[3]))\n",
        "\n",
        "# Graficar los datos\n",
        "plt.plot(tiempos, valores1, label='Mutlplicacion en GPU')\n",
        "plt.plot(tiempos, valores3, label='Multiplicacion en bloques GPU')\n",
        "\n",
        "# Configurar la leyenda y los ejes\n",
        "plt.legend()\n",
        "plt.xlabel('Tamaño de la matriz')\n",
        "plt.ylabel('Tiempo msec')\n",
        "\n",
        "# Mostrar el gráfico\n",
        "plt.show()\n"
      ],
      "metadata": {
        "colab": {
          "base_uri": "https://localhost:8080/",
          "height": 449
        },
        "id": "0xZooaRPxEsj",
        "outputId": "2068a31a-2475-48da-d9c3-0bdb8ad25ca2"
      },
      "execution_count": 27,
      "outputs": [
        {
          "output_type": "display_data",
          "data": {
            "text/plain": [
              "<Figure size 640x480 with 1 Axes>"
            ],
            "image/png": "[encoded data removed]"
          },
          "metadata": {}
        }
      ]
    },
    {
      "cell_type": "markdown",
      "source": [
        "Podemos observar que la ejecución en GPU es bastante rápida, se graficó aplicando logaritmo al tiempo ya que la velocidad de la ejecución en CPU era mucho mayor y no dejaba mucho espacio para diferenciar el tiempo de ejecución de la multiplicación en GPU y por bloques en GPU.\n",
        "\n",
        "El código más rapido es la mutliplicación por bloques en CUDA, le sigue la multiplicación por bloques y finalmente la ejecución en el CPU."
      ],
      "metadata": {
        "id": "kh_A4kM2wqoN"
      }
    }
  ]
}